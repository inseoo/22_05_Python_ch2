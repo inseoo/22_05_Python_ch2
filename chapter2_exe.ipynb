{
  "nbformat": 4,
  "nbformat_minor": 0,
  "metadata": {
    "colab": {
      "provenance": [],
      "authorship_tag": "ABX9TyMPXWtRKCan1IFubh4+XCMH",
      "include_colab_link": true
    },
    "kernelspec": {
      "name": "python3",
      "display_name": "Python 3"
    },
    "language_info": {
      "name": "python"
    }
  },
  "cells": [
    {
      "cell_type": "markdown",
      "metadata": {
        "id": "view-in-github",
        "colab_type": "text"
      },
      "source": [
        "<a href=\"https://colab.research.google.com/github/inseoo/22_05_Python_ch2/blob/main/chapter2_exe.ipynb\" target=\"_parent\"><img src=\"https://colab.research.google.com/assets/colab-badge.svg\" alt=\"Open In Colab\"/></a>"
      ]
    },
    {
      "cell_type": "markdown",
      "source": [
        "(1) 사용자에게 이름과 나이를 입력하게 한다. 사용자가 100살이 되는 연도를 화면에 출력하는 프로그램을 작성하라."
      ],
      "metadata": {
        "id": "2UK3CMgkP79Y"
      }
    },
    {
      "cell_type": "code",
      "source": [
        "name=input(\"이름을 입력하시오:\")     #변수 name에 input 함수를 사용하여 사용자에게 이름을 입력 받는 부분\n",
        "age=int(input(\"나이를 입력하시오:\")) #변수 age에 int(정수형선언) 함수로 사용자에게 나이를 입력 받음\n",
        "year=2022-age+100                    #변수 year에 현재 연도-변수(age)+100\n",
        "print(name+\"씨는\"+str(year)+\"년에 100살입니다.\")"
      ],
      "metadata": {
        "colab": {
          "base_uri": "https://localhost:8080/"
        },
        "id": "O7yw1RxyQJZO",
        "outputId": "2cc8ff31-55fe-4213-a714-f3123e435142"
      },
      "execution_count": 14,
      "outputs": [
        {
          "output_type": "stream",
          "name": "stdout",
          "text": [
            "이름을 입력하시오:조인서\n",
            "나이를 입력하시오:20\n",
            "조인서씨는2102년에 100살입니다.\n"
          ]
        }
      ]
    },
    {
      "cell_type": "code",
      "source": [],
      "metadata": {
        "id": "328jmvR9YjW2"
      },
      "execution_count": null,
      "outputs": []
    },
    {
      "cell_type": "markdown",
      "source": [
        "(2) 사용자로부터 3개의 숫자를 받아서 평균을 계산하고 결곽를 출력하는 프로그램을 작성하여라."
      ],
      "metadata": {
        "id": "FVvqm_UwUHnc"
      }
    },
    {
      "cell_type": "code",
      "source": [
        "n1=int(input(\"첫 번째 숫자를 입력하시오:\"))\n",
        "n2=int(input(\"두 번째 숫자를 입력하시오:\"))\n",
        "n3=int(input(\"세 번째 숫자를 입력하시오:\"))\n",
        "average=(n1+n2+n3)/3\n",
        "print(n1, n2, n3,\"의 평균은\",average,\"입니다.\")  #변수 average에 n1, n2, n3를(로 묶어야 한다.) 더하고 3으로 나눈다."
      ],
      "metadata": {
        "colab": {
          "base_uri": "https://localhost:8080/"
        },
        "id": "leMRpbDFTbV2",
        "outputId": "a15673b7-0745-4874-edb0-ae010d788eb6"
      },
      "execution_count": 6,
      "outputs": [
        {
          "output_type": "stream",
          "name": "stdout",
          "text": [
            "첫 번째 숫자를 입력하시오:10\n",
            "두 번째 숫자를 입력하시오:20\n",
            "세 번째 숫자를 입력하시오:30\n",
            "10 20 30 의 평균은 20.0 입니다.\n"
          ]
        }
      ]
    },
    {
      "cell_type": "code",
      "source": [
        "n1=int(input(\"첫 번째 숫자를 입력하시오:\"))\n",
        "n2=int(input(\"두 번째 숫자를 입력하시오:\"))\n",
        "n3=int(input(\"세 번째 숫자를 입력하시오:\"))\n",
        "average=(n1+n2+n3)/3\n",
        "sum=(n1+n2+n3)\n",
        "print(n1, n2, n3,\"합은\",str(sum),\"이고\",\"의 평균은\",average,\"입니다.\")"
      ],
      "metadata": {
        "colab": {
          "base_uri": "https://localhost:8080/"
        },
        "id": "4e5_-gpFU_zn",
        "outputId": "833e3dca-74fd-4f0b-dab0-79f6da2ac442"
      },
      "execution_count": 10,
      "outputs": [
        {
          "output_type": "stream",
          "name": "stdout",
          "text": [
            "첫 번째 숫자를 입력하시오:10\n",
            "두 번째 숫자를 입력하시오:20\n",
            "세 번째 숫자를 입력하시오:30\n",
            "10 20 30 합은 60 이고 의 평균은 20.0 입니다.\n"
          ]
        }
      ]
    },
    {
      "cell_type": "markdown",
      "source": [
        "(3) 사용자로부터 원의 반지름을 입력 받아서 원의 면적을 계산하는 프로그램을 작성하라. 곱셈을 나타내는 기호는 *이다."
      ],
      "metadata": {
        "id": "03GZJhrcVvaC"
      }
    },
    {
      "cell_type": "code",
      "source": [
        "radius=int(input(\"반지름을 입력하시오.\"))\n",
        "area=3.141592*radius*radius\n",
        "print(\"반지름이\", radius, \"인 원의 넓이 =\", area)"
      ],
      "metadata": {
        "colab": {
          "base_uri": "https://localhost:8080/"
        },
        "id": "ODd8it5kV65k",
        "outputId": "0a2f5fec-d1ad-4c6b-d993-336a4f671f37"
      },
      "execution_count": 12,
      "outputs": [
        {
          "output_type": "stream",
          "name": "stdout",
          "text": [
            "반지름을 입력하시오.10\n",
            "반지름이 10 인 원의 넓이 = 314.1592\n"
          ]
        }
      ]
    },
    {
      "cell_type": "code",
      "source": [
        "radius=int(input(\"반지름을 입력하시오.\"))\n",
        "area=3.141592*radius*radius\n",
        "print(\"반지름이\", radius, \"인 원의 넓이는 =\", area, \"입니다.\")"
      ],
      "metadata": {
        "colab": {
          "base_uri": "https://localhost:8080/"
        },
        "id": "kcWP658GWnvt",
        "outputId": "a36c222f-422b-47f5-a677-f066b01a30e3"
      },
      "execution_count": 16,
      "outputs": [
        {
          "output_type": "stream",
          "name": "stdout",
          "text": [
            "반지름을 입력하시오.10\n",
            "반지름이 10 인 원의 넓이는 = 314.1592 입니다.\n"
          ]
        }
      ]
    }
  ]
}